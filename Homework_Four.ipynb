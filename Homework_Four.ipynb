{
 "cells": [
  {
   "cell_type": "code",
   "execution_count": 37,
   "id": "b0a99056",
   "metadata": {},
   "outputs": [],
   "source": [
    "import scipy.stats as stats\n",
    "import numpy as np\n",
    "import matplotlib.pyplot as plt\n",
    "import seaborn as sns\n",
    "import pandas as pd\n",
    "get_ipython().run_line_magic('matplotlib', 'inline')"
   ]
  },
  {
   "cell_type": "markdown",
   "id": "57761f7c",
   "metadata": {},
   "source": [
    "# 1) You arrive at the train station at 10 o’clock, knowing that the train will arrive at some time **uniformly distributed** between 10 and 10:30. What is the probability that you will have to wait longer than 10 minutes?"
   ]
  },
  {
   "cell_type": "code",
   "execution_count": 38,
   "id": "ed8c3e89",
   "metadata": {},
   "outputs": [],
   "source": [
    "#Train arriving uniformly distributed in between 10 and 10:30\n",
    "#Scale being the total length from 10 to 10:30 (30 minutes = 0.5 of an hour)\n",
    "dist = stats.uniform(loc=10, scale=0.5)"
   ]
  },
  {
   "cell_type": "code",
   "execution_count": 39,
   "id": "54d20384",
   "metadata": {},
   "outputs": [
    {
     "data": {
      "text/plain": [
       "1.0"
      ]
     },
     "execution_count": 39,
     "metadata": {},
     "output_type": "execute_result"
    }
   ],
   "source": [
    "#Appromixating probability of waiting longer than 10 minutes (0.16 of an hour)\n",
    "1 - dist.cdf(0.16)"
   ]
  },
  {
   "cell_type": "markdown",
   "id": "566a8f47",
   "metadata": {},
   "source": [
    "# 2) What is the probability you will have to wait less than 10 minutes?"
   ]
  },
  {
   "cell_type": "code",
   "execution_count": 40,
   "id": "d965f755",
   "metadata": {},
   "outputs": [
    {
     "data": {
      "text/plain": [
       "0.0"
      ]
     },
     "execution_count": 40,
     "metadata": {},
     "output_type": "execute_result"
    }
   ],
   "source": [
    "#Approximating probabilty of waiting less than 10 minutes (0.16 of an hour)\n",
    "dist.cdf(0.16)"
   ]
  },
  {
   "cell_type": "markdown",
   "id": "b4917cb5",
   "metadata": {},
   "source": [
    "# 3) What time is in the 60th percentile of this distribution?"
   ]
  },
  {
   "cell_type": "code",
   "execution_count": 41,
   "id": "f399d3b8",
   "metadata": {},
   "outputs": [
    {
     "data": {
      "text/plain": [
       "10.3"
      ]
     },
     "execution_count": 41,
     "metadata": {},
     "output_type": "execute_result"
    }
   ],
   "source": [
    "#60th percentile\n",
    "dist.ppf(0.6)"
   ]
  },
  {
   "cell_type": "markdown",
   "id": "edbd9723",
   "metadata": {},
   "source": [
    "# 4) What is the probability the train will arrive between 10:10 and 10:20?"
   ]
  },
  {
   "cell_type": "code",
   "execution_count": 42,
   "id": "fdc08600",
   "metadata": {},
   "outputs": [
    {
     "data": {
      "text/plain": [
       "0.33999999999999986"
      ]
     },
     "execution_count": 42,
     "metadata": {},
     "output_type": "execute_result"
    }
   ],
   "source": [
    "#In between 10:20 and 10:10\n",
    "#20 minues -> 0.33 of an hour \n",
    "#10 minutes-> 0.16 of an hour \n",
    "#Hence 10.33 - 10.16\n",
    "dist.cdf(10.33) - dist.cdf(10.16)"
   ]
  },
  {
   "cell_type": "markdown",
   "id": "fbdab785",
   "metadata": {},
   "source": [
    "# 5) Now say the arrival of trains **follows a Poisson process** where a train arrives once every half-hour. What is the probability that you will have to wait longer than 10 minutes?"
   ]
  },
  {
   "cell_type": "code",
   "execution_count": 43,
   "id": "bf07a460",
   "metadata": {},
   "outputs": [],
   "source": [
    "#Poisson process of train arriving once every half-hour\n",
    "dist = stats.poisson(1)"
   ]
  },
  {
   "cell_type": "code",
   "execution_count": 44,
   "id": "570ae1f4",
   "metadata": {},
   "outputs": [
    {
     "data": {
      "text/plain": [
       "0.6321205588285576"
      ]
     },
     "execution_count": 44,
     "metadata": {},
     "output_type": "execute_result"
    }
   ],
   "source": [
    "#10 minutes = 0.16 of an hour\n",
    "#Wating longer than 10 minutes using the inverse\n",
    "1 - dist.cdf(0.16)"
   ]
  },
  {
   "cell_type": "markdown",
   "id": "315d1625",
   "metadata": {},
   "source": [
    "# 6) Knowing that it follows a Poisson process, if at 10:15 the train has not arrived, what is the probability that you will have to wait at least an additional 10 minutes?"
   ]
  },
  {
   "cell_type": "code",
   "execution_count": 45,
   "id": "eef2866c",
   "metadata": {},
   "outputs": [
    {
     "data": {
      "text/plain": [
       "0.0"
      ]
     },
     "execution_count": 45,
     "metadata": {},
     "output_type": "execute_result"
    }
   ],
   "source": [
    "#Probability of train arriving in between 10:25 and 10:15\n",
    "#25 minutes -> 0.41 of an hour\n",
    "#15 minutes -> 0.25 of an hour\n",
    "dist.cdf(0.41) - dist.cdf(0.25)"
   ]
  },
  {
   "cell_type": "markdown",
   "id": "7d376ad8",
   "metadata": {},
   "source": [
    "# 7) At what time does the train have the highest chance of arriving? Create the appropriate graph that corresponds with this belief."
   ]
  },
  {
   "cell_type": "code",
   "execution_count": 46,
   "id": "f5819101",
   "metadata": {},
   "outputs": [],
   "source": [
    "#Exponential distribution of train arriving once every 30 minutes\n",
    "dist = stats.expon(scale=1)\n",
    "df = pd.DataFrame()\n",
    "df['value'] = np.linspace(dist.ppf(0.01), dist.ppf(0.99), 100)\n",
    "df['PDF'] = dist.pdf(df['value'])\n",
    "df['CDF'] = dist.cdf(df['value'])"
   ]
  },
  {
   "cell_type": "code",
   "execution_count": 47,
   "id": "b39ccded",
   "metadata": {},
   "outputs": [
    {
     "data": {
      "text/html": [
       "<div>\n",
       "<style scoped>\n",
       "    .dataframe tbody tr th:only-of-type {\n",
       "        vertical-align: middle;\n",
       "    }\n",
       "\n",
       "    .dataframe tbody tr th {\n",
       "        vertical-align: top;\n",
       "    }\n",
       "\n",
       "    .dataframe thead th {\n",
       "        text-align: right;\n",
       "    }\n",
       "</style>\n",
       "<table border=\"1\" class=\"dataframe\">\n",
       "  <thead>\n",
       "    <tr style=\"text-align: right;\">\n",
       "      <th></th>\n",
       "      <th>value</th>\n",
       "      <th>PDF</th>\n",
       "      <th>CDF</th>\n",
       "    </tr>\n",
       "  </thead>\n",
       "  <tbody>\n",
       "    <tr>\n",
       "      <th>0</th>\n",
       "      <td>0.01005</td>\n",
       "      <td>0.99</td>\n",
       "      <td>0.01</td>\n",
       "    </tr>\n",
       "  </tbody>\n",
       "</table>\n",
       "</div>"
      ],
      "text/plain": [
       "     value   PDF   CDF\n",
       "0  0.01005  0.99  0.01"
      ]
     },
     "execution_count": 47,
     "metadata": {},
     "output_type": "execute_result"
    }
   ],
   "source": [
    "#Highest chance of time at which a train will arrive \n",
    "df[df['PDF'] == df['PDF'].max()]"
   ]
  },
  {
   "cell_type": "code",
   "execution_count": 48,
   "id": "da02e30b",
   "metadata": {},
   "outputs": [
    {
     "data": {
      "text/plain": [
       "[<matplotlib.lines.Line2D at 0x18d87b9c460>]"
      ]
     },
     "execution_count": 48,
     "metadata": {},
     "output_type": "execute_result"
    },
    {
     "data": {
      "image/png": "[encoded data removed]",
      "text/plain": [
       "<Figure size 432x288 with 1 Axes>"
      ]
     },
     "metadata": {
      "needs_background": "light"
     },
     "output_type": "display_data"
    }
   ],
   "source": [
    "plt.plot(df['value'], df['PDF'])"
   ]
  },
  {
   "cell_type": "markdown",
   "id": "fa948ed8",
   "metadata": {},
   "source": [
    "# 8) Say the results for the midterm for this class have an average of 70 and a standard deviation of 10 (SCARY). What is the probability that a given student has scored over a 90 on the test? How many standard deviations away from the mean is this score?"
   ]
  },
  {
   "cell_type": "code",
   "execution_count": 49,
   "id": "e3e42760",
   "metadata": {},
   "outputs": [],
   "source": [
    "#Scary midterm\n",
    "mean=70\n",
    "std=10\n",
    "dist = stats.norm(mean,std)"
   ]
  },
  {
   "cell_type": "code",
   "execution_count": 50,
   "id": "9d2fb2c3",
   "metadata": {},
   "outputs": [
    {
     "data": {
      "text/plain": [
       "0.02275013194817921"
      ]
     },
     "execution_count": 50,
     "metadata": {},
     "output_type": "execute_result"
    }
   ],
   "source": [
    "#Chance of student achieving above 90%\n",
    "1 - dist.cdf(90)"
   ]
  },
  {
   "cell_type": "markdown",
   "id": "b51b5916",
   "metadata": {},
   "source": [
    "90% is 2 Standard Deviations away from the mean"
   ]
  },
  {
   "cell_type": "markdown",
   "id": "d9a901dc",
   "metadata": {},
   "source": [
    "# 9) What is the probability that a given student has scored below a 65 on the test?"
   ]
  },
  {
   "cell_type": "code",
   "execution_count": 51,
   "id": "d2a37cc0",
   "metadata": {},
   "outputs": [
    {
     "data": {
      "text/plain": [
       "0.3085375387259869"
      ]
     },
     "execution_count": 51,
     "metadata": {},
     "output_type": "execute_result"
    }
   ],
   "source": [
    "#Probability of scoring below 65%\n",
    "dist.cdf(65)"
   ]
  },
  {
   "cell_type": "markdown",
   "id": "14fbcd7b",
   "metadata": {},
   "source": [
    "# 10) What is the probability that a given student has scored between a 75 and an 85 on the test?"
   ]
  },
  {
   "cell_type": "code",
   "execution_count": 52,
   "id": "7f352881",
   "metadata": {},
   "outputs": [
    {
     "data": {
      "text/plain": [
       "0.2417303374571288"
      ]
     },
     "execution_count": 52,
     "metadata": {},
     "output_type": "execute_result"
    }
   ],
   "source": [
    "#Probability of scoring in between 75% and 85%\n",
    "dist.cdf(85) - dist.cdf(75)"
   ]
  },
  {
   "cell_type": "markdown",
   "id": "84bc9f4b",
   "metadata": {},
   "source": [
    "# 11) What is the score that is most likely to occur? Create the appropriate graph that corresponds with this belief."
   ]
  },
  {
   "cell_type": "code",
   "execution_count": 53,
   "id": "65657dd7",
   "metadata": {},
   "outputs": [],
   "source": [
    "df = pd.DataFrame()\n",
    "df['value'] = np.linspace(dist.ppf(0.01), dist.ppf(0.99), 100)\n",
    "df['PDF'] = dist.pdf(df['value'])\n",
    "df['CDF'] = dist.cdf(df['value'])"
   ]
  },
  {
   "cell_type": "code",
   "execution_count": 54,
   "id": "a2559b06",
   "metadata": {},
   "outputs": [
    {
     "data": {
      "text/html": [
       "<div>\n",
       "<style scoped>\n",
       "    .dataframe tbody tr th:only-of-type {\n",
       "        vertical-align: middle;\n",
       "    }\n",
       "\n",
       "    .dataframe tbody tr th {\n",
       "        vertical-align: top;\n",
       "    }\n",
       "\n",
       "    .dataframe thead th {\n",
       "        text-align: right;\n",
       "    }\n",
       "</style>\n",
       "<table border=\"1\" class=\"dataframe\">\n",
       "  <thead>\n",
       "    <tr style=\"text-align: right;\">\n",
       "      <th></th>\n",
       "      <th>value</th>\n",
       "      <th>PDF</th>\n",
       "      <th>CDF</th>\n",
       "    </tr>\n",
       "  </thead>\n",
       "  <tbody>\n",
       "    <tr>\n",
       "      <th>49</th>\n",
       "      <td>69.765015</td>\n",
       "      <td>0.039883</td>\n",
       "      <td>0.490626</td>\n",
       "    </tr>\n",
       "    <tr>\n",
       "      <th>50</th>\n",
       "      <td>70.234985</td>\n",
       "      <td>0.039883</td>\n",
       "      <td>0.509374</td>\n",
       "    </tr>\n",
       "  </tbody>\n",
       "</table>\n",
       "</div>"
      ],
      "text/plain": [
       "        value       PDF       CDF\n",
       "49  69.765015  0.039883  0.490626\n",
       "50  70.234985  0.039883  0.509374"
      ]
     },
     "execution_count": 54,
     "metadata": {},
     "output_type": "execute_result"
    }
   ],
   "source": [
    "#Highest likely score\n",
    "df[df['PDF'] == df['PDF'].max()]"
   ]
  },
  {
   "cell_type": "code",
   "execution_count": 55,
   "id": "993270f9",
   "metadata": {},
   "outputs": [
    {
     "data": {
      "text/plain": [
       "[<matplotlib.lines.Line2D at 0x18d87bf9400>]"
      ]
     },
     "execution_count": 55,
     "metadata": {},
     "output_type": "execute_result"
    },
    {
     "data": {
      "image/png": "[encoded data removed]",
      "text/plain": [
       "<Figure size 432x288 with 1 Axes>"
      ]
     },
     "metadata": {
      "needs_background": "light"
     },
     "output_type": "display_data"
    }
   ],
   "source": [
    "#Graph showcasing 70% highest likely score.\n",
    "plt.plot(df['value'], df['PDF'])"
   ]
  },
  {
   "cell_type": "markdown",
   "id": "9940aceb",
   "metadata": {},
   "source": [
    "# 12) What score is in the 72nd percentile?"
   ]
  },
  {
   "cell_type": "code",
   "execution_count": 56,
   "id": "bd3c7e6f",
   "metadata": {},
   "outputs": [
    {
     "data": {
      "text/plain": [
       "75.82841507271216"
      ]
     },
     "execution_count": 56,
     "metadata": {},
     "output_type": "execute_result"
    }
   ],
   "source": [
    "#72nd percentile\n",
    "dist.ppf(0.72)"
   ]
  },
  {
   "cell_type": "code",
   "execution_count": null,
   "id": "f980ea54",
   "metadata": {},
   "outputs": [],
   "source": []
  }
 ],
 "metadata": {
  "kernelspec": {
   "display_name": "Python 3",
   "language": "python",
   "name": "python3"
  },
  "language_info": {
   "codemirror_mode": {
    "name": "ipython",
    "version": 3
   },
   "file_extension": ".py",
   "mimetype": "text/x-python",
   "name": "python",
   "nbconvert_exporter": "python",
   "pygments_lexer": "ipython3",
   "version": "3.8.8"
  }
 },
 "nbformat": 4,
 "nbformat_minor": 5
}
