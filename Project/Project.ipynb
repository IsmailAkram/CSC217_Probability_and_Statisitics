{
 "cells": [
  {
   "cell_type": "markdown",
   "metadata": {},
   "source": [
    "## Ismail Akram\n",
    "\n",
    "# An Analysis of Film and Video Game Revenue with their Aggregate Ratings\n",
    "\n",
    "For my project, I will explore the relationship between top grossing video games and films with their aggregate ratings. \n",
    "\n",
    "I want to answer several questions that arise from such a comparison. Is there a notable disparity between critical and audience reception? If the difference is minute, can I streamline them? Is there a correlation between aggregate ratings and their respective revenue?\n",
    "\n",
    "How did films and video games perform over the last few decades? How do video game and film grosses compare? Which of the two have a stronger correlation with their aggregate scores? \n",
    "\n",
    "Which one gravitates closer to the data (gross revenue)?\n",
    "\n",
    "I will be using data extracted (and cleaned up as CSV files) from:\n",
    "\n",
    "https://vgsales.fandom.com/wiki/List_of_highest-grossing_video_games for Video Game Revenue\n",
    "\n",
    "https://en.wikipedia.org/wiki/List_of_highest-grossing_films for Film Revenue\n",
    "\n",
    "https://www.igdb.com/discover for Video Game Aggregate Ratings\n",
    "\n",
    "https://www.metacritic.com/ for Film Aggregate Ratings"
   ]
  },
  {
   "cell_type": "code",
   "execution_count": 1,
   "metadata": {},
   "outputs": [],
   "source": [
    "import pandas as pd\n",
    "import numpy as np\n",
    "import seaborn as sns\n",
    "import matplotlib.pyplot as plt\n",
    "import scipy.stats as stats\n",
    "import statsmodels.api as sm\n",
    "import statsmodels.formula.api as smf\n",
    "%matplotlib inline"
   ]
  },
  {
   "cell_type": "markdown",
   "metadata": {},
   "source": [
    "# Importing datasets\n",
    "The following CSV files are cleaned up HTML files. I've also manually entered the aggregate ratings from their respective websites (IGDB and Metacritic).\n",
    "\n",
    "I've filled in missing data entries for ratings with the overall average of all other ratings to streamline the data. Both for critic and user ratings. This was necessary for later steps as certain plots came out completely void. \n",
    "\n",
    "This will allow me to create the datatype \"Average\" between User and Critic reviews later in the investigation."
   ]
  },
  {
   "cell_type": "code",
   "execution_count": 2,
   "metadata": {},
   "outputs": [
    {
     "data": {
      "text/html": [
       "<div>\n",
       "<style scoped>\n",
       "    .dataframe tbody tr th:only-of-type {\n",
       "        vertical-align: middle;\n",
       "    }\n",
       "\n",
       "    .dataframe tbody tr th {\n",
       "        vertical-align: top;\n",
       "    }\n",
       "\n",
       "    .dataframe thead th {\n",
       "        text-align: right;\n",
       "    }\n",
       "</style>\n",
       "<table border=\"1\" class=\"dataframe\">\n",
       "  <thead>\n",
       "    <tr style=\"text-align: right;\">\n",
       "      <th></th>\n",
       "      <th>Title</th>\n",
       "      <th>Year</th>\n",
       "      <th>Gross Revenue (US$)</th>\n",
       "      <th>Aggregate Rating (User)</th>\n",
       "      <th>Aggregate Rating (Critic)</th>\n",
       "      <th>Genre</th>\n",
       "    </tr>\n",
       "  </thead>\n",
       "  <tbody>\n",
       "    <tr>\n",
       "      <th>0</th>\n",
       "      <td>Pac-Man</td>\n",
       "      <td>1980</td>\n",
       "      <td>16330000000</td>\n",
       "      <td>83</td>\n",
       "      <td>79</td>\n",
       "      <td>Maze</td>\n",
       "    </tr>\n",
       "    <tr>\n",
       "      <th>1</th>\n",
       "      <td>Space Invaders</td>\n",
       "      <td>1978</td>\n",
       "      <td>14457000000</td>\n",
       "      <td>78</td>\n",
       "      <td>77</td>\n",
       "      <td>Shmup</td>\n",
       "    </tr>\n",
       "    <tr>\n",
       "      <th>2</th>\n",
       "      <td>Street Fighter II</td>\n",
       "      <td>1991</td>\n",
       "      <td>11854000000</td>\n",
       "      <td>83</td>\n",
       "      <td>80</td>\n",
       "      <td>Fighting</td>\n",
       "    </tr>\n",
       "    <tr>\n",
       "      <th>3</th>\n",
       "      <td>Dungeon Fighter Online</td>\n",
       "      <td>2005</td>\n",
       "      <td>11800000000</td>\n",
       "      <td>60</td>\n",
       "      <td>80</td>\n",
       "      <td>MMO beat 'em up</td>\n",
       "    </tr>\n",
       "    <tr>\n",
       "      <th>4</th>\n",
       "      <td>CrossFire</td>\n",
       "      <td>2007</td>\n",
       "      <td>10850000000</td>\n",
       "      <td>70</td>\n",
       "      <td>80</td>\n",
       "      <td>MMOFPS</td>\n",
       "    </tr>\n",
       "    <tr>\n",
       "      <th>5</th>\n",
       "      <td>World of Warcraft</td>\n",
       "      <td>2004</td>\n",
       "      <td>9702000000</td>\n",
       "      <td>86</td>\n",
       "      <td>86</td>\n",
       "      <td>MMORPG</td>\n",
       "    </tr>\n",
       "    <tr>\n",
       "      <th>6</th>\n",
       "      <td>Lineage</td>\n",
       "      <td>1998</td>\n",
       "      <td>9635000000</td>\n",
       "      <td>45</td>\n",
       "      <td>59</td>\n",
       "      <td>MMORPG</td>\n",
       "    </tr>\n",
       "    <tr>\n",
       "      <th>7</th>\n",
       "      <td>League of Legends</td>\n",
       "      <td>2009</td>\n",
       "      <td>8416000000</td>\n",
       "      <td>76</td>\n",
       "      <td>84</td>\n",
       "      <td>MOBA</td>\n",
       "    </tr>\n",
       "    <tr>\n",
       "      <th>8</th>\n",
       "      <td>Westward Journey</td>\n",
       "      <td>2001</td>\n",
       "      <td>8012000000</td>\n",
       "      <td>78</td>\n",
       "      <td>80</td>\n",
       "      <td>MMORPG</td>\n",
       "    </tr>\n",
       "    <tr>\n",
       "      <th>9</th>\n",
       "      <td>Monster Strike</td>\n",
       "      <td>2013</td>\n",
       "      <td>7200000000</td>\n",
       "      <td>78</td>\n",
       "      <td>80</td>\n",
       "      <td>Puzzle strategy RPG</td>\n",
       "    </tr>\n",
       "    <tr>\n",
       "      <th>10</th>\n",
       "      <td>Puzzle &amp; Dragons</td>\n",
       "      <td>2012</td>\n",
       "      <td>7000000000</td>\n",
       "      <td>78</td>\n",
       "      <td>80</td>\n",
       "      <td>Puzzle RPG</td>\n",
       "    </tr>\n",
       "    <tr>\n",
       "      <th>11</th>\n",
       "      <td>Arena of Valor / Honor of Kings</td>\n",
       "      <td>2015</td>\n",
       "      <td>7000000000</td>\n",
       "      <td>88</td>\n",
       "      <td>80</td>\n",
       "      <td>MOBA</td>\n",
       "    </tr>\n",
       "    <tr>\n",
       "      <th>12</th>\n",
       "      <td>Wii Sports</td>\n",
       "      <td>2006</td>\n",
       "      <td>6305000000</td>\n",
       "      <td>75</td>\n",
       "      <td>75</td>\n",
       "      <td>Sports</td>\n",
       "    </tr>\n",
       "    <tr>\n",
       "      <th>13</th>\n",
       "      <td>Super Mario Bros.</td>\n",
       "      <td>1985</td>\n",
       "      <td>6082000000</td>\n",
       "      <td>85</td>\n",
       "      <td>80</td>\n",
       "      <td>2D platformer</td>\n",
       "    </tr>\n",
       "    <tr>\n",
       "      <th>14</th>\n",
       "      <td>Grand Theft Auto V</td>\n",
       "      <td>2013</td>\n",
       "      <td>6000000000</td>\n",
       "      <td>91</td>\n",
       "      <td>96</td>\n",
       "      <td>Action adventure</td>\n",
       "    </tr>\n",
       "    <tr>\n",
       "      <th>15</th>\n",
       "      <td>Donkey Kong</td>\n",
       "      <td>1981</td>\n",
       "      <td>5732000000</td>\n",
       "      <td>73</td>\n",
       "      <td>80</td>\n",
       "      <td>2D platformer</td>\n",
       "    </tr>\n",
       "    <tr>\n",
       "      <th>16</th>\n",
       "      <td>Wii Fit</td>\n",
       "      <td>2007</td>\n",
       "      <td>5225000000</td>\n",
       "      <td>60</td>\n",
       "      <td>74</td>\n",
       "      <td>Fitness</td>\n",
       "    </tr>\n",
       "    <tr>\n",
       "      <th>17</th>\n",
       "      <td>Candy Crush Saga</td>\n",
       "      <td>2012</td>\n",
       "      <td>5062000000</td>\n",
       "      <td>47</td>\n",
       "      <td>80</td>\n",
       "      <td>Puzzle</td>\n",
       "    </tr>\n",
       "    <tr>\n",
       "      <th>18</th>\n",
       "      <td>Super Mario Bros. 3</td>\n",
       "      <td>1988</td>\n",
       "      <td>4935000000</td>\n",
       "      <td>90</td>\n",
       "      <td>80</td>\n",
       "      <td>2D platformer</td>\n",
       "    </tr>\n",
       "    <tr>\n",
       "      <th>19</th>\n",
       "      <td>Sonic the Hedgehog</td>\n",
       "      <td>1991</td>\n",
       "      <td>4303000000</td>\n",
       "      <td>72</td>\n",
       "      <td>80</td>\n",
       "      <td>2D platformer</td>\n",
       "    </tr>\n",
       "    <tr>\n",
       "      <th>20</th>\n",
       "      <td>MapleStory</td>\n",
       "      <td>2003</td>\n",
       "      <td>4192000000</td>\n",
       "      <td>80</td>\n",
       "      <td>50</td>\n",
       "      <td>MMORPG</td>\n",
       "    </tr>\n",
       "    <tr>\n",
       "      <th>21</th>\n",
       "      <td>Clash of Clans</td>\n",
       "      <td>2012</td>\n",
       "      <td>4067000000</td>\n",
       "      <td>65</td>\n",
       "      <td>80</td>\n",
       "      <td>Strategy</td>\n",
       "    </tr>\n",
       "    <tr>\n",
       "      <th>22</th>\n",
       "      <td>Super Mario World</td>\n",
       "      <td>1990</td>\n",
       "      <td>4014000000</td>\n",
       "      <td>92</td>\n",
       "      <td>100</td>\n",
       "      <td>2D platformer</td>\n",
       "    </tr>\n",
       "    <tr>\n",
       "      <th>23</th>\n",
       "      <td>Super Mario Bros. 2</td>\n",
       "      <td>1986</td>\n",
       "      <td>3838000000</td>\n",
       "      <td>77</td>\n",
       "      <td>80</td>\n",
       "      <td>2D platformer</td>\n",
       "    </tr>\n",
       "    <tr>\n",
       "      <th>24</th>\n",
       "      <td>Pokémon Red/Green/Blue/Yellow</td>\n",
       "      <td>1996</td>\n",
       "      <td>3720000000</td>\n",
       "      <td>85</td>\n",
       "      <td>75</td>\n",
       "      <td>RPG</td>\n",
       "    </tr>\n",
       "    <tr>\n",
       "      <th>25</th>\n",
       "      <td>World Club Champion Football</td>\n",
       "      <td>2002</td>\n",
       "      <td>3411000000</td>\n",
       "      <td>78</td>\n",
       "      <td>80</td>\n",
       "      <td>Sports simulation</td>\n",
       "    </tr>\n",
       "    <tr>\n",
       "      <th>26</th>\n",
       "      <td>Pokémon Go</td>\n",
       "      <td>2016</td>\n",
       "      <td>3365000000</td>\n",
       "      <td>64</td>\n",
       "      <td>63</td>\n",
       "      <td>Augmented reality</td>\n",
       "    </tr>\n",
       "    <tr>\n",
       "      <th>27</th>\n",
       "      <td>Fate/Grand Order</td>\n",
       "      <td>2015</td>\n",
       "      <td>3306000000</td>\n",
       "      <td>98</td>\n",
       "      <td>80</td>\n",
       "      <td>RPG</td>\n",
       "    </tr>\n",
       "    <tr>\n",
       "      <th>28</th>\n",
       "      <td>Wii Sports Resort</td>\n",
       "      <td>2009</td>\n",
       "      <td>3241000000</td>\n",
       "      <td>78</td>\n",
       "      <td>90</td>\n",
       "      <td>Sports</td>\n",
       "    </tr>\n",
       "    <tr>\n",
       "      <th>29</th>\n",
       "      <td>Mario Kart Wii</td>\n",
       "      <td>2008</td>\n",
       "      <td>3232000000</td>\n",
       "      <td>80</td>\n",
       "      <td>71</td>\n",
       "      <td>Kart racing</td>\n",
       "    </tr>\n",
       "    <tr>\n",
       "      <th>...</th>\n",
       "      <td>...</td>\n",
       "      <td>...</td>\n",
       "      <td>...</td>\n",
       "      <td>...</td>\n",
       "      <td>...</td>\n",
       "      <td>...</td>\n",
       "    </tr>\n",
       "    <tr>\n",
       "      <th>34</th>\n",
       "      <td>New Super Mario Bros. Wii</td>\n",
       "      <td>2009</td>\n",
       "      <td>2492000000</td>\n",
       "      <td>82</td>\n",
       "      <td>81</td>\n",
       "      <td>2D platformer</td>\n",
       "    </tr>\n",
       "    <tr>\n",
       "      <th>35</th>\n",
       "      <td>Duck Hunt</td>\n",
       "      <td>1984</td>\n",
       "      <td>2469000000</td>\n",
       "      <td>69</td>\n",
       "      <td>80</td>\n",
       "      <td>Light gun shooter</td>\n",
       "    </tr>\n",
       "    <tr>\n",
       "      <th>36</th>\n",
       "      <td>Fortnite</td>\n",
       "      <td>2017</td>\n",
       "      <td>2400000000</td>\n",
       "      <td>69</td>\n",
       "      <td>83</td>\n",
       "      <td>Battle royale</td>\n",
       "    </tr>\n",
       "    <tr>\n",
       "      <th>37</th>\n",
       "      <td>Pokémon Ruby/Sapphire/Emerald</td>\n",
       "      <td>2002</td>\n",
       "      <td>2240000000</td>\n",
       "      <td>82</td>\n",
       "      <td>80</td>\n",
       "      <td>RPG</td>\n",
       "    </tr>\n",
       "    <tr>\n",
       "      <th>38</th>\n",
       "      <td>Clash Royale</td>\n",
       "      <td>2016</td>\n",
       "      <td>2178000000</td>\n",
       "      <td>76</td>\n",
       "      <td>80</td>\n",
       "      <td>Strategy</td>\n",
       "    </tr>\n",
       "    <tr>\n",
       "      <th>39</th>\n",
       "      <td>New Super Mario Bros.</td>\n",
       "      <td>2006</td>\n",
       "      <td>2167000000</td>\n",
       "      <td>82</td>\n",
       "      <td>95</td>\n",
       "      <td>2D platformer</td>\n",
       "    </tr>\n",
       "    <tr>\n",
       "      <th>40</th>\n",
       "      <td>Tetris</td>\n",
       "      <td>1988</td>\n",
       "      <td>2065000000</td>\n",
       "      <td>89</td>\n",
       "      <td>80</td>\n",
       "      <td>Puzzle</td>\n",
       "    </tr>\n",
       "    <tr>\n",
       "      <th>41</th>\n",
       "      <td>Asteroids</td>\n",
       "      <td>1979</td>\n",
       "      <td>2029000000</td>\n",
       "      <td>78</td>\n",
       "      <td>90</td>\n",
       "      <td>Shmup</td>\n",
       "    </tr>\n",
       "    <tr>\n",
       "      <th>42</th>\n",
       "      <td>PlayerUnknown's Battlegrounds</td>\n",
       "      <td>2017</td>\n",
       "      <td>2028000000</td>\n",
       "      <td>77</td>\n",
       "      <td>75</td>\n",
       "      <td>Battle royale</td>\n",
       "    </tr>\n",
       "    <tr>\n",
       "      <th>43</th>\n",
       "      <td>Final Fantasy XIV</td>\n",
       "      <td>2010</td>\n",
       "      <td>1918000000</td>\n",
       "      <td>83</td>\n",
       "      <td>92</td>\n",
       "      <td>MMORPG</td>\n",
       "    </tr>\n",
       "    <tr>\n",
       "      <th>44</th>\n",
       "      <td>Call of Duty: Black Ops(incl. map packs)</td>\n",
       "      <td>2010</td>\n",
       "      <td>1925000000</td>\n",
       "      <td>80</td>\n",
       "      <td>81</td>\n",
       "      <td>FPS</td>\n",
       "    </tr>\n",
       "    <tr>\n",
       "      <th>45</th>\n",
       "      <td>Compilation of Final Fantasy VII</td>\n",
       "      <td>1997</td>\n",
       "      <td>1839000000</td>\n",
       "      <td>91</td>\n",
       "      <td>85</td>\n",
       "      <td>RPG</td>\n",
       "    </tr>\n",
       "    <tr>\n",
       "      <th>46</th>\n",
       "      <td>Final Fantasy XI Online</td>\n",
       "      <td>2002</td>\n",
       "      <td>1760000000</td>\n",
       "      <td>78</td>\n",
       "      <td>63</td>\n",
       "      <td>MMORPG</td>\n",
       "    </tr>\n",
       "    <tr>\n",
       "      <th>47</th>\n",
       "      <td>Final Fantasy X &amp; X-2</td>\n",
       "      <td>2001</td>\n",
       "      <td>1739000000</td>\n",
       "      <td>86</td>\n",
       "      <td>95</td>\n",
       "      <td>RPG</td>\n",
       "    </tr>\n",
       "    <tr>\n",
       "      <th>48</th>\n",
       "      <td>Call of Duty: Black Ops(excl. map packs)</td>\n",
       "      <td>2010</td>\n",
       "      <td>1632000000</td>\n",
       "      <td>80</td>\n",
       "      <td>81</td>\n",
       "      <td>FPS</td>\n",
       "    </tr>\n",
       "    <tr>\n",
       "      <th>49</th>\n",
       "      <td>Minecraft</td>\n",
       "      <td>2011</td>\n",
       "      <td>1593000000</td>\n",
       "      <td>83</td>\n",
       "      <td>84</td>\n",
       "      <td>Sandbox</td>\n",
       "    </tr>\n",
       "    <tr>\n",
       "      <th>50</th>\n",
       "      <td>Pole Position (US gross)</td>\n",
       "      <td>1982</td>\n",
       "      <td>1470000000</td>\n",
       "      <td>74</td>\n",
       "      <td>60</td>\n",
       "      <td>Racing</td>\n",
       "    </tr>\n",
       "    <tr>\n",
       "      <th>51</th>\n",
       "      <td>Defender</td>\n",
       "      <td>1980</td>\n",
       "      <td>1469000000</td>\n",
       "      <td>77</td>\n",
       "      <td>70</td>\n",
       "      <td>Shmup</td>\n",
       "    </tr>\n",
       "    <tr>\n",
       "      <th>52</th>\n",
       "      <td>NBA Jam</td>\n",
       "      <td>1993</td>\n",
       "      <td>1421000000</td>\n",
       "      <td>81</td>\n",
       "      <td>69</td>\n",
       "      <td>Sports</td>\n",
       "    </tr>\n",
       "    <tr>\n",
       "      <th>53</th>\n",
       "      <td>TERA Online</td>\n",
       "      <td>2011</td>\n",
       "      <td>1403000000</td>\n",
       "      <td>71</td>\n",
       "      <td>73</td>\n",
       "      <td>MMO action RPG</td>\n",
       "    </tr>\n",
       "    <tr>\n",
       "      <th>54</th>\n",
       "      <td>Pokémon Diamond/Pearl/Platinum</td>\n",
       "      <td>2006</td>\n",
       "      <td>1396000000</td>\n",
       "      <td>80</td>\n",
       "      <td>83</td>\n",
       "      <td>RPG</td>\n",
       "    </tr>\n",
       "    <tr>\n",
       "      <th>55</th>\n",
       "      <td>Final Fantasy VII</td>\n",
       "      <td>1997</td>\n",
       "      <td>1377000000</td>\n",
       "      <td>91</td>\n",
       "      <td>85</td>\n",
       "      <td>RPG</td>\n",
       "    </tr>\n",
       "    <tr>\n",
       "      <th>56</th>\n",
       "      <td>Pokémon Sun &amp; Moon</td>\n",
       "      <td>2016</td>\n",
       "      <td>1272000000</td>\n",
       "      <td>78</td>\n",
       "      <td>86</td>\n",
       "      <td>RPG</td>\n",
       "    </tr>\n",
       "    <tr>\n",
       "      <th>57</th>\n",
       "      <td>Dragon Quest I &amp; II</td>\n",
       "      <td>1986</td>\n",
       "      <td>1132000000</td>\n",
       "      <td>71</td>\n",
       "      <td>80</td>\n",
       "      <td>RPG</td>\n",
       "    </tr>\n",
       "    <tr>\n",
       "      <th>58</th>\n",
       "      <td>Dragon Quest V</td>\n",
       "      <td>1992</td>\n",
       "      <td>1127000000</td>\n",
       "      <td>69</td>\n",
       "      <td>80</td>\n",
       "      <td>RPG</td>\n",
       "    </tr>\n",
       "    <tr>\n",
       "      <th>59</th>\n",
       "      <td>Summoners War</td>\n",
       "      <td>2013</td>\n",
       "      <td>1051000000</td>\n",
       "      <td>78</td>\n",
       "      <td>80</td>\n",
       "      <td>Strategy</td>\n",
       "    </tr>\n",
       "    <tr>\n",
       "      <th>60</th>\n",
       "      <td>Pokémon X &amp; Y</td>\n",
       "      <td>2013</td>\n",
       "      <td>1001000000</td>\n",
       "      <td>80</td>\n",
       "      <td>87</td>\n",
       "      <td>RPG</td>\n",
       "    </tr>\n",
       "    <tr>\n",
       "      <th>61</th>\n",
       "      <td>Call of Duty: WWII</td>\n",
       "      <td>2017</td>\n",
       "      <td>1000000000</td>\n",
       "      <td>77</td>\n",
       "      <td>75</td>\n",
       "      <td>FPS</td>\n",
       "    </tr>\n",
       "    <tr>\n",
       "      <th>62</th>\n",
       "      <td>Call of Duty: Black Ops 4</td>\n",
       "      <td>2018</td>\n",
       "      <td>1000000000</td>\n",
       "      <td>73</td>\n",
       "      <td>84</td>\n",
       "      <td>FPS</td>\n",
       "    </tr>\n",
       "    <tr>\n",
       "      <th>63</th>\n",
       "      <td>Red Dead Redemption 2</td>\n",
       "      <td>2018</td>\n",
       "      <td>1000000000</td>\n",
       "      <td>94</td>\n",
       "      <td>95</td>\n",
       "      <td>Action adventure</td>\n",
       "    </tr>\n",
       "  </tbody>\n",
       "</table>\n",
       "<p>64 rows × 6 columns</p>\n",
       "</div>"
      ],
      "text/plain": [
       "                                       Title  Year  Gross Revenue (US$)  \\\n",
       "0                                    Pac-Man  1980          16330000000   \n",
       "1                             Space Invaders  1978          14457000000   \n",
       "2                          Street Fighter II  1991          11854000000   \n",
       "3                     Dungeon Fighter Online  2005          11800000000   \n",
       "4                                  CrossFire  2007          10850000000   \n",
       "5                          World of Warcraft  2004           9702000000   \n",
       "6                                    Lineage  1998           9635000000   \n",
       "7                          League of Legends  2009           8416000000   \n",
       "8                           Westward Journey  2001           8012000000   \n",
       "9                             Monster Strike  2013           7200000000   \n",
       "10                          Puzzle & Dragons  2012           7000000000   \n",
       "11           Arena of Valor / Honor of Kings  2015           7000000000   \n",
       "12                                Wii Sports  2006           6305000000   \n",
       "13                         Super Mario Bros.  1985           6082000000   \n",
       "14                        Grand Theft Auto V  2013           6000000000   \n",
       "15                               Donkey Kong  1981           5732000000   \n",
       "16                                   Wii Fit  2007           5225000000   \n",
       "17                          Candy Crush Saga  2012           5062000000   \n",
       "18                       Super Mario Bros. 3  1988           4935000000   \n",
       "19                        Sonic the Hedgehog  1991           4303000000   \n",
       "20                                MapleStory  2003           4192000000   \n",
       "21                            Clash of Clans  2012           4067000000   \n",
       "22                         Super Mario World  1990           4014000000   \n",
       "23                       Super Mario Bros. 2  1986           3838000000   \n",
       "24             Pokémon Red/Green/Blue/Yellow  1996           3720000000   \n",
       "25              World Club Champion Football  2002           3411000000   \n",
       "26                                Pokémon Go  2016           3365000000   \n",
       "27                          Fate/Grand Order  2015           3306000000   \n",
       "28                         Wii Sports Resort  2009           3241000000   \n",
       "29                            Mario Kart Wii  2008           3232000000   \n",
       "..                                       ...   ...                  ...   \n",
       "34                 New Super Mario Bros. Wii  2009           2492000000   \n",
       "35                                 Duck Hunt  1984           2469000000   \n",
       "36                                  Fortnite  2017           2400000000   \n",
       "37             Pokémon Ruby/Sapphire/Emerald  2002           2240000000   \n",
       "38                              Clash Royale  2016           2178000000   \n",
       "39                     New Super Mario Bros.  2006           2167000000   \n",
       "40                                    Tetris  1988           2065000000   \n",
       "41                                 Asteroids  1979           2029000000   \n",
       "42             PlayerUnknown's Battlegrounds  2017           2028000000   \n",
       "43                         Final Fantasy XIV  2010           1918000000   \n",
       "44  Call of Duty: Black Ops(incl. map packs)  2010           1925000000   \n",
       "45          Compilation of Final Fantasy VII  1997           1839000000   \n",
       "46                   Final Fantasy XI Online  2002           1760000000   \n",
       "47                     Final Fantasy X & X-2  2001           1739000000   \n",
       "48  Call of Duty: Black Ops(excl. map packs)  2010           1632000000   \n",
       "49                                 Minecraft  2011           1593000000   \n",
       "50                  Pole Position (US gross)  1982           1470000000   \n",
       "51                                  Defender  1980           1469000000   \n",
       "52                                   NBA Jam  1993           1421000000   \n",
       "53                               TERA Online  2011           1403000000   \n",
       "54            Pokémon Diamond/Pearl/Platinum  2006           1396000000   \n",
       "55                         Final Fantasy VII  1997           1377000000   \n",
       "56                        Pokémon Sun & Moon  2016           1272000000   \n",
       "57                       Dragon Quest I & II  1986           1132000000   \n",
       "58                            Dragon Quest V  1992           1127000000   \n",
       "59                             Summoners War  2013           1051000000   \n",
       "60                             Pokémon X & Y  2013           1001000000   \n",
       "61                        Call of Duty: WWII  2017           1000000000   \n",
       "62                 Call of Duty: Black Ops 4  2018           1000000000   \n",
       "63                     Red Dead Redemption 2  2018           1000000000   \n",
       "\n",
       "    Aggregate Rating (User)  Aggregate Rating (Critic)                Genre  \n",
       "0                        83                         79                 Maze  \n",
       "1                        78                         77                Shmup  \n",
       "2                        83                         80             Fighting  \n",
       "3                        60                         80      MMO beat 'em up  \n",
       "4                        70                         80               MMOFPS  \n",
       "5                        86                         86               MMORPG  \n",
       "6                        45                         59               MMORPG  \n",
       "7                        76                         84                 MOBA  \n",
       "8                        78                         80               MMORPG  \n",
       "9                        78                         80  Puzzle strategy RPG  \n",
       "10                       78                         80           Puzzle RPG  \n",
       "11                       88                         80                 MOBA  \n",
       "12                       75                         75               Sports  \n",
       "13                       85                         80        2D platformer  \n",
       "14                       91                         96     Action adventure  \n",
       "15                       73                         80        2D platformer  \n",
       "16                       60                         74              Fitness  \n",
       "17                       47                         80               Puzzle  \n",
       "18                       90                         80        2D platformer  \n",
       "19                       72                         80        2D platformer  \n",
       "20                       80                         50               MMORPG  \n",
       "21                       65                         80             Strategy  \n",
       "22                       92                        100        2D platformer  \n",
       "23                       77                         80        2D platformer  \n",
       "24                       85                         75                  RPG  \n",
       "25                       78                         80    Sports simulation  \n",
       "26                       64                         63    Augmented reality  \n",
       "27                       98                         80                  RPG  \n",
       "28                       78                         90               Sports  \n",
       "29                       80                         71          Kart racing  \n",
       "..                      ...                        ...                  ...  \n",
       "34                       82                         81        2D platformer  \n",
       "35                       69                         80    Light gun shooter  \n",
       "36                       69                         83        Battle royale  \n",
       "37                       82                         80                  RPG  \n",
       "38                       76                         80             Strategy  \n",
       "39                       82                         95        2D platformer  \n",
       "40                       89                         80               Puzzle  \n",
       "41                       78                         90                Shmup  \n",
       "42                       77                         75        Battle royale  \n",
       "43                       83                         92               MMORPG  \n",
       "44                       80                         81                  FPS  \n",
       "45                       91                         85                  RPG  \n",
       "46                       78                         63               MMORPG  \n",
       "47                       86                         95                  RPG  \n",
       "48                       80                         81                  FPS  \n",
       "49                       83                         84              Sandbox  \n",
       "50                       74                         60               Racing  \n",
       "51                       77                         70                Shmup  \n",
       "52                       81                         69               Sports  \n",
       "53                       71                         73       MMO action RPG  \n",
       "54                       80                         83                  RPG  \n",
       "55                       91                         85                  RPG  \n",
       "56                       78                         86                  RPG  \n",
       "57                       71                         80                  RPG  \n",
       "58                       69                         80                  RPG  \n",
       "59                       78                         80             Strategy  \n",
       "60                       80                         87                  RPG  \n",
       "61                       77                         75                  FPS  \n",
       "62                       73                         84                  FPS  \n",
       "63                       94                         95     Action adventure  \n",
       "\n",
       "[64 rows x 6 columns]"
      ]
     },
     "execution_count": 2,
     "metadata": {},
     "output_type": "execute_result"
    }
   ],
   "source": [
    "#Dataset of both the VGSales and IDBG ratings combined as a CSV\n",
    "VGDF = pd.read_csv('VGDF.csv', header = 0)\n",
    "VGDF"
   ]
  },
  {
   "cell_type": "code",
   "execution_count": 3,
   "metadata": {},
   "outputs": [
    {
     "data": {
      "text/html": [
       "<div>\n",
       "<style scoped>\n",
       "    .dataframe tbody tr th:only-of-type {\n",
       "        vertical-align: middle;\n",
       "    }\n",
       "\n",
       "    .dataframe tbody tr th {\n",
       "        vertical-align: top;\n",
       "    }\n",
       "\n",
       "    .dataframe thead th {\n",
       "        text-align: right;\n",
       "    }\n",
       "</style>\n",
       "<table border=\"1\" class=\"dataframe\">\n",
       "  <thead>\n",
       "    <tr style=\"text-align: right;\">\n",
       "      <th></th>\n",
       "      <th>Title</th>\n",
       "      <th>Year</th>\n",
       "      <th>Gross Revenue (US$)</th>\n",
       "      <th>Aggregate Rating (User)</th>\n",
       "      <th>Aggregate Rating (Critic)</th>\n",
       "    </tr>\n",
       "  </thead>\n",
       "  <tbody>\n",
       "    <tr>\n",
       "      <th>0</th>\n",
       "      <td>Avengers: Endgame</td>\n",
       "      <td>2019</td>\n",
       "      <td>2797800564</td>\n",
       "      <td>94</td>\n",
       "      <td>90</td>\n",
       "    </tr>\n",
       "    <tr>\n",
       "      <th>1</th>\n",
       "      <td>Avatar</td>\n",
       "      <td>2009</td>\n",
       "      <td>2789679794</td>\n",
       "      <td>82</td>\n",
       "      <td>82</td>\n",
       "    </tr>\n",
       "    <tr>\n",
       "      <th>2</th>\n",
       "      <td>Titanic</td>\n",
       "      <td>1997</td>\n",
       "      <td>2187463944</td>\n",
       "      <td>76</td>\n",
       "      <td>71</td>\n",
       "    </tr>\n",
       "    <tr>\n",
       "      <th>3</th>\n",
       "      <td>Star Wars: The Force Awakens</td>\n",
       "      <td>2015</td>\n",
       "      <td>2068223624</td>\n",
       "      <td>93</td>\n",
       "      <td>86</td>\n",
       "    </tr>\n",
       "    <tr>\n",
       "      <th>4</th>\n",
       "      <td>Avengers: Infinity War</td>\n",
       "      <td>2018</td>\n",
       "      <td>2048359754</td>\n",
       "      <td>85</td>\n",
       "      <td>91</td>\n",
       "    </tr>\n",
       "    <tr>\n",
       "      <th>5</th>\n",
       "      <td>Jurassic World</td>\n",
       "      <td>2015</td>\n",
       "      <td>1671713208</td>\n",
       "      <td>72</td>\n",
       "      <td>78</td>\n",
       "    </tr>\n",
       "    <tr>\n",
       "      <th>6</th>\n",
       "      <td>The Lion King</td>\n",
       "      <td>2019</td>\n",
       "      <td>1655714790</td>\n",
       "      <td>53</td>\n",
       "      <td>88</td>\n",
       "    </tr>\n",
       "    <tr>\n",
       "      <th>7</th>\n",
       "      <td>The Avengers</td>\n",
       "      <td>2012</td>\n",
       "      <td>1518812988</td>\n",
       "      <td>91</td>\n",
       "      <td>91</td>\n",
       "    </tr>\n",
       "    <tr>\n",
       "      <th>8</th>\n",
       "      <td>Furious 7</td>\n",
       "      <td>2015</td>\n",
       "      <td>1516045911</td>\n",
       "      <td>81</td>\n",
       "      <td>82</td>\n",
       "    </tr>\n",
       "    <tr>\n",
       "      <th>9</th>\n",
       "      <td>Avengers: Age of Ultron</td>\n",
       "      <td>2015</td>\n",
       "      <td>1405403694</td>\n",
       "      <td>75</td>\n",
       "      <td>83</td>\n",
       "    </tr>\n",
       "    <tr>\n",
       "      <th>10</th>\n",
       "      <td>Black Panther</td>\n",
       "      <td>2018</td>\n",
       "      <td>1346913161</td>\n",
       "      <td>97</td>\n",
       "      <td>79</td>\n",
       "    </tr>\n",
       "    <tr>\n",
       "      <th>11</th>\n",
       "      <td>Harry Potter and the Deathly Hallows – Part 2</td>\n",
       "      <td>2011</td>\n",
       "      <td>1341693157</td>\n",
       "      <td>96</td>\n",
       "      <td>89</td>\n",
       "    </tr>\n",
       "    <tr>\n",
       "      <th>12</th>\n",
       "      <td>Star Wars: The Last Jedi</td>\n",
       "      <td>2017</td>\n",
       "      <td>1332539889</td>\n",
       "      <td>91</td>\n",
       "      <td>44</td>\n",
       "    </tr>\n",
       "    <tr>\n",
       "      <th>13</th>\n",
       "      <td>Jurassic World: Fallen Kingdom</td>\n",
       "      <td>2018</td>\n",
       "      <td>1309484461</td>\n",
       "      <td>48</td>\n",
       "      <td>49</td>\n",
       "    </tr>\n",
       "    <tr>\n",
       "      <th>14</th>\n",
       "      <td>Frozen</td>\n",
       "      <td>2013</td>\n",
       "      <td>1290000000</td>\n",
       "      <td>90</td>\n",
       "      <td>85</td>\n",
       "    </tr>\n",
       "    <tr>\n",
       "      <th>15</th>\n",
       "      <td>Beauty and the Beast</td>\n",
       "      <td>2017</td>\n",
       "      <td>1263521126</td>\n",
       "      <td>71</td>\n",
       "      <td>80</td>\n",
       "    </tr>\n",
       "    <tr>\n",
       "      <th>16</th>\n",
       "      <td>Incredibles 2</td>\n",
       "      <td>2018</td>\n",
       "      <td>1242805359</td>\n",
       "      <td>94</td>\n",
       "      <td>84</td>\n",
       "    </tr>\n",
       "    <tr>\n",
       "      <th>17</th>\n",
       "      <td>The Fate of the Furious</td>\n",
       "      <td>2017</td>\n",
       "      <td>1238764765</td>\n",
       "      <td>67</td>\n",
       "      <td>72</td>\n",
       "    </tr>\n",
       "    <tr>\n",
       "      <th>18</th>\n",
       "      <td>Iron Man 3</td>\n",
       "      <td>2013</td>\n",
       "      <td>1214811252</td>\n",
       "      <td>79</td>\n",
       "      <td>78</td>\n",
       "    </tr>\n",
       "    <tr>\n",
       "      <th>19</th>\n",
       "      <td>Minions</td>\n",
       "      <td>2015</td>\n",
       "      <td>1159398397</td>\n",
       "      <td>55</td>\n",
       "      <td>49</td>\n",
       "    </tr>\n",
       "    <tr>\n",
       "      <th>20</th>\n",
       "      <td>Captain America: Civil War</td>\n",
       "      <td>2016</td>\n",
       "      <td>1153304495</td>\n",
       "      <td>91</td>\n",
       "      <td>89</td>\n",
       "    </tr>\n",
       "    <tr>\n",
       "      <th>21</th>\n",
       "      <td>Aquaman</td>\n",
       "      <td>2018</td>\n",
       "      <td>1148161807</td>\n",
       "      <td>66</td>\n",
       "      <td>75</td>\n",
       "    </tr>\n",
       "    <tr>\n",
       "      <th>22</th>\n",
       "      <td>Spider-Man: Far From Home</td>\n",
       "      <td>2019</td>\n",
       "      <td>1131928519</td>\n",
       "      <td>90</td>\n",
       "      <td>95</td>\n",
       "    </tr>\n",
       "    <tr>\n",
       "      <th>23</th>\n",
       "      <td>Captain Marvel</td>\n",
       "      <td>2019</td>\n",
       "      <td>1128274794</td>\n",
       "      <td>78</td>\n",
       "      <td>52</td>\n",
       "    </tr>\n",
       "    <tr>\n",
       "      <th>24</th>\n",
       "      <td>Transformers: Dark of the Moon</td>\n",
       "      <td>2011</td>\n",
       "      <td>1123794079</td>\n",
       "      <td>35</td>\n",
       "      <td>55</td>\n",
       "    </tr>\n",
       "    <tr>\n",
       "      <th>25</th>\n",
       "      <td>The Lord of the Rings: The Return of the King</td>\n",
       "      <td>2003</td>\n",
       "      <td>1120237002</td>\n",
       "      <td>93</td>\n",
       "      <td>86</td>\n",
       "    </tr>\n",
       "    <tr>\n",
       "      <th>26</th>\n",
       "      <td>Skyfall</td>\n",
       "      <td>2012</td>\n",
       "      <td>1108561013</td>\n",
       "      <td>92</td>\n",
       "      <td>86</td>\n",
       "    </tr>\n",
       "    <tr>\n",
       "      <th>27</th>\n",
       "      <td>Transformers: Age of Extinction</td>\n",
       "      <td>2014</td>\n",
       "      <td>1104054072</td>\n",
       "      <td>18</td>\n",
       "      <td>51</td>\n",
       "    </tr>\n",
       "    <tr>\n",
       "      <th>28</th>\n",
       "      <td>The Dark Knight Rises</td>\n",
       "      <td>2012</td>\n",
       "      <td>1084939099</td>\n",
       "      <td>87</td>\n",
       "      <td>90</td>\n",
       "    </tr>\n",
       "    <tr>\n",
       "      <th>29</th>\n",
       "      <td>Toy Story 4</td>\n",
       "      <td>2019</td>\n",
       "      <td>1073368577</td>\n",
       "      <td>97</td>\n",
       "      <td>94</td>\n",
       "    </tr>\n",
       "    <tr>\n",
       "      <th>30</th>\n",
       "      <td>Toy Story 3</td>\n",
       "      <td>2010</td>\n",
       "      <td>1066969703</td>\n",
       "      <td>98</td>\n",
       "      <td>89</td>\n",
       "    </tr>\n",
       "    <tr>\n",
       "      <th>31</th>\n",
       "      <td>Pirates of the Caribbean: Dead Man's Chest</td>\n",
       "      <td>2006</td>\n",
       "      <td>1066179725</td>\n",
       "      <td>53</td>\n",
       "      <td>72</td>\n",
       "    </tr>\n",
       "    <tr>\n",
       "      <th>32</th>\n",
       "      <td>Rogue One: A Star Wars Story</td>\n",
       "      <td>2016</td>\n",
       "      <td>1056057273</td>\n",
       "      <td>84</td>\n",
       "      <td>86</td>\n",
       "    </tr>\n",
       "    <tr>\n",
       "      <th>33</th>\n",
       "      <td>Aladdin</td>\n",
       "      <td>2019</td>\n",
       "      <td>1050693953</td>\n",
       "      <td>57</td>\n",
       "      <td>94</td>\n",
       "    </tr>\n",
       "    <tr>\n",
       "      <th>34</th>\n",
       "      <td>Pirates of the Caribbean: On Stranger Tides</td>\n",
       "      <td>2011</td>\n",
       "      <td>1045713802</td>\n",
       "      <td>33</td>\n",
       "      <td>54</td>\n",
       "    </tr>\n",
       "    <tr>\n",
       "      <th>35</th>\n",
       "      <td>Joker</td>\n",
       "      <td>2019</td>\n",
       "      <td>1036857842</td>\n",
       "      <td>68</td>\n",
       "      <td>88</td>\n",
       "    </tr>\n",
       "    <tr>\n",
       "      <th>36</th>\n",
       "      <td>Despicable Me 3</td>\n",
       "      <td>2017</td>\n",
       "      <td>1034799409</td>\n",
       "      <td>58</td>\n",
       "      <td>54</td>\n",
       "    </tr>\n",
       "    <tr>\n",
       "      <th>37</th>\n",
       "      <td>Jurassic Park</td>\n",
       "      <td>1993</td>\n",
       "      <td>1029939903</td>\n",
       "      <td>91</td>\n",
       "      <td>91</td>\n",
       "    </tr>\n",
       "    <tr>\n",
       "      <th>38</th>\n",
       "      <td>Finding Dory</td>\n",
       "      <td>2016</td>\n",
       "      <td>1028570889</td>\n",
       "      <td>94</td>\n",
       "      <td>84</td>\n",
       "    </tr>\n",
       "    <tr>\n",
       "      <th>39</th>\n",
       "      <td>Star Wars: Episode I – The Phantom Menace</td>\n",
       "      <td>1999</td>\n",
       "      <td>1027044677</td>\n",
       "      <td>53</td>\n",
       "      <td>59</td>\n",
       "    </tr>\n",
       "    <tr>\n",
       "      <th>40</th>\n",
       "      <td>Alice in Wonderland</td>\n",
       "      <td>2010</td>\n",
       "      <td>1025467110</td>\n",
       "      <td>51</td>\n",
       "      <td>55</td>\n",
       "    </tr>\n",
       "    <tr>\n",
       "      <th>41</th>\n",
       "      <td>Zootopia</td>\n",
       "      <td>2016</td>\n",
       "      <td>1023784195</td>\n",
       "      <td>97</td>\n",
       "      <td>92</td>\n",
       "    </tr>\n",
       "    <tr>\n",
       "      <th>42</th>\n",
       "      <td>The Hobbit: An Unexpected Journey</td>\n",
       "      <td>2012</td>\n",
       "      <td>1021103568</td>\n",
       "      <td>64</td>\n",
       "      <td>83</td>\n",
       "    </tr>\n",
       "    <tr>\n",
       "      <th>43</th>\n",
       "      <td>The Dark Knight</td>\n",
       "      <td>2008</td>\n",
       "      <td>1004934033</td>\n",
       "      <td>94</td>\n",
       "      <td>94</td>\n",
       "    </tr>\n",
       "  </tbody>\n",
       "</table>\n",
       "</div>"
      ],
      "text/plain": [
       "                                            Title  Year  Gross Revenue (US$)  \\\n",
       "0                               Avengers: Endgame  2019           2797800564   \n",
       "1                                          Avatar  2009           2789679794   \n",
       "2                                         Titanic  1997           2187463944   \n",
       "3                    Star Wars: The Force Awakens  2015           2068223624   \n",
       "4                          Avengers: Infinity War  2018           2048359754   \n",
       "5                                  Jurassic World  2015           1671713208   \n",
       "6                                   The Lion King  2019           1655714790   \n",
       "7                                    The Avengers  2012           1518812988   \n",
       "8                                       Furious 7  2015           1516045911   \n",
       "9                         Avengers: Age of Ultron  2015           1405403694   \n",
       "10                                  Black Panther  2018           1346913161   \n",
       "11  Harry Potter and the Deathly Hallows – Part 2  2011           1341693157   \n",
       "12                       Star Wars: The Last Jedi  2017           1332539889   \n",
       "13                 Jurassic World: Fallen Kingdom  2018           1309484461   \n",
       "14                                         Frozen  2013           1290000000   \n",
       "15                           Beauty and the Beast  2017           1263521126   \n",
       "16                                  Incredibles 2  2018           1242805359   \n",
       "17                        The Fate of the Furious  2017           1238764765   \n",
       "18                                     Iron Man 3  2013           1214811252   \n",
       "19                                        Minions  2015           1159398397   \n",
       "20                     Captain America: Civil War  2016           1153304495   \n",
       "21                                        Aquaman  2018           1148161807   \n",
       "22                      Spider-Man: Far From Home  2019           1131928519   \n",
       "23                                 Captain Marvel  2019           1128274794   \n",
       "24                 Transformers: Dark of the Moon  2011           1123794079   \n",
       "25  The Lord of the Rings: The Return of the King  2003           1120237002   \n",
       "26                                        Skyfall  2012           1108561013   \n",
       "27                Transformers: Age of Extinction  2014           1104054072   \n",
       "28                          The Dark Knight Rises  2012           1084939099   \n",
       "29                                    Toy Story 4  2019           1073368577   \n",
       "30                                    Toy Story 3  2010           1066969703   \n",
       "31     Pirates of the Caribbean: Dead Man's Chest  2006           1066179725   \n",
       "32                   Rogue One: A Star Wars Story  2016           1056057273   \n",
       "33                                        Aladdin  2019           1050693953   \n",
       "34    Pirates of the Caribbean: On Stranger Tides  2011           1045713802   \n",
       "35                                          Joker  2019           1036857842   \n",
       "36                                Despicable Me 3  2017           1034799409   \n",
       "37                                  Jurassic Park  1993           1029939903   \n",
       "38                                   Finding Dory  2016           1028570889   \n",
       "39      Star Wars: Episode I – The Phantom Menace  1999           1027044677   \n",
       "40                            Alice in Wonderland  2010           1025467110   \n",
       "41                                       Zootopia  2016           1023784195   \n",
       "42              The Hobbit: An Unexpected Journey  2012           1021103568   \n",
       "43                                The Dark Knight  2008           1004934033   \n",
       "\n",
       "    Aggregate Rating (User)  Aggregate Rating (Critic)  \n",
       "0                        94                         90  \n",
       "1                        82                         82  \n",
       "2                        76                         71  \n",
       "3                        93                         86  \n",
       "4                        85                         91  \n",
       "5                        72                         78  \n",
       "6                        53                         88  \n",
       "7                        91                         91  \n",
       "8                        81                         82  \n",
       "9                        75                         83  \n",
       "10                       97                         79  \n",
       "11                       96                         89  \n",
       "12                       91                         44  \n",
       "13                       48                         49  \n",
       "14                       90                         85  \n",
       "15                       71                         80  \n",
       "16                       94                         84  \n",
       "17                       67                         72  \n",
       "18                       79                         78  \n",
       "19                       55                         49  \n",
       "20                       91                         89  \n",
       "21                       66                         75  \n",
       "22                       90                         95  \n",
       "23                       78                         52  \n",
       "24                       35                         55  \n",
       "25                       93                         86  \n",
       "26                       92                         86  \n",
       "27                       18                         51  \n",
       "28                       87                         90  \n",
       "29                       97                         94  \n",
       "30                       98                         89  \n",
       "31                       53                         72  \n",
       "32                       84                         86  \n",
       "33                       57                         94  \n",
       "34                       33                         54  \n",
       "35                       68                         88  \n",
       "36                       58                         54  \n",
       "37                       91                         91  \n",
       "38                       94                         84  \n",
       "39                       53                         59  \n",
       "40                       51                         55  \n",
       "41                       97                         92  \n",
       "42                       64                         83  \n",
       "43                       94                         94  "
      ]
     },
     "execution_count": 3,
     "metadata": {},
     "output_type": "execute_result"
    }
   ],
   "source": [
    "#Dataset of both the Wikipedia table and Metacritic ratings combined as a CSV\n",
    "FilmDF = pd.read_csv('FilmDF.csv', header = 0)\n",
    "FilmDF"
   ]
  },
  {
   "cell_type": "markdown",
   "metadata": {},
   "source": [
    "# Exploration of Single Variable Data"
   ]
  },
  {
   "cell_type": "code",
   "execution_count": 4,
   "metadata": {},
   "outputs": [
    {
     "data": {
      "text/plain": [
       "Year                         2.001812e+03\n",
       "Gross Revenue (US$)          4.104172e+09\n",
       "Aggregate Rating (User)      7.807812e+01\n",
       "Aggregate Rating (Critic)    7.987500e+01\n",
       "dtype: float64"
      ]
     },
     "execution_count": 4,
     "metadata": {},
     "output_type": "execute_result"
    }
   ],
   "source": [
    "#Mean data of Video Game Dataframe\n",
    "VGDF.mean()"
   ]
  },
  {
   "cell_type": "code",
   "execution_count": 5,
   "metadata": {},
   "outputs": [
    {
     "data": {
      "text/plain": [
       "Year                         2.005500e+03\n",
       "Gross Revenue (US$)          2.640000e+09\n",
       "Aggregate Rating (User)      7.800000e+01\n",
       "Aggregate Rating (Critic)    8.000000e+01\n",
       "dtype: float64"
      ]
     },
     "execution_count": 5,
     "metadata": {},
     "output_type": "execute_result"
    }
   ],
   "source": [
    "#Looking for prominent year (2005).\n",
    "VGDF.median()"
   ]
  },
  {
   "cell_type": "code",
   "execution_count": 6,
   "metadata": {},
   "outputs": [
    {
     "data": {
      "text/plain": [
       "Year                         2.013318e+03\n",
       "Gross Revenue (US$)          1.320316e+09\n",
       "Aggregate Rating (User)      7.572727e+01\n",
       "Aggregate Rating (Critic)    7.770455e+01\n",
       "dtype: float64"
      ]
     },
     "execution_count": 6,
     "metadata": {},
     "output_type": "execute_result"
    }
   ],
   "source": [
    "#Mean data of Film Dataframe\n",
    "FilmDF.mean()"
   ]
  },
  {
   "cell_type": "code",
   "execution_count": 7,
   "metadata": {},
   "outputs": [
    {
     "data": {
      "text/plain": [
       "Year                         2.015000e+03\n",
       "Gross Revenue (US$)          1.140045e+09\n",
       "Aggregate Rating (User)      8.150000e+01\n",
       "Aggregate Rating (Critic)    8.350000e+01\n",
       "dtype: float64"
      ]
     },
     "execution_count": 7,
     "metadata": {},
     "output_type": "execute_result"
    }
   ],
   "source": [
    "#Looking for prominent year (2015)\n",
    "FilmDF.median()"
   ]
  },
  {
   "cell_type": "markdown",
   "metadata": {},
   "source": [
    "Since the Aggregate Rating (User) and Aggregate Rating (Critic) averages differ by ~1 (Video Games) and ~2 (Films), I'm going to streamline both User and Critic Rating as \"Average Rating\". This will also create a wholistic investigation."
   ]
  },
  {
   "cell_type": "code",
   "execution_count": 8,
   "metadata": {},
   "outputs": [],
   "source": [
    "#Creating Average Rating Datatype for Video Games\n",
    "VGDF[\"Average Rating\"] = ((VGDF[\"Aggregate Rating (User)\"])+(VGDF[\"Aggregate Rating (Critic)\"]))/2"
   ]
  },
  {
   "cell_type": "code",
   "execution_count": 9,
   "metadata": {},
   "outputs": [],
   "source": [
    "#Same for Film Ratings\n",
    "FilmDF[\"Average Rating\"] = ((FilmDF[\"Aggregate Rating (User)\"])+(FilmDF[\"Aggregate Rating (Critic)\"]))/2"
   ]
  },
  {
   "cell_type": "code",
   "execution_count": 10,
   "metadata": {},
   "outputs": [
    {
     "data": {
      "text/plain": [
       "Text(0.5,1,'Film Revenue')"
      ]
     },
     "execution_count": 10,
     "metadata": {},
     "output_type": "execute_result"
    },
    {
     "data": {
      "image/png": "[encoded data removed]",
      "text/plain": [
       "<matplotlib.figure.Figure at 0x7f3471cd42b0>"
      ]
     },
     "metadata": {
      "needs_background": "light"
     },
     "output_type": "display_data"
    }
   ],
   "source": [
    "fig, ax =plt.subplots(2,1, figsize=(10,10))\n",
    "ax[0].hist(VGDF[\"Gross Revenue (US$)\"]);\n",
    "ax[0].set_xlabel(\"Gross Revenue\")\n",
    "ax[0].set_ylabel(\"# of Video Games\")\n",
    "ax[0].set_title(\"Video Game Revenue\", fontsize=15, y=1)\n",
    "ax[1].hist(FilmDF[\"Gross Revenue (US$)\"]);\n",
    "ax[1].set_xlabel(\"Gross Revenue\")\n",
    "ax[1].set_ylabel(\"# of Films\")\n",
    "ax[1].set_title(\"Film Revenue\", fontsize=15, y=1)"
   ]
  },
  {
   "cell_type": "markdown",
   "metadata": {},
   "source": [
    "Above we can see that both distributions skew heavily to the right."
   ]
  },
  {
   "cell_type": "code",
   "execution_count": 11,
   "metadata": {},
   "outputs": [
    {
     "data": {
      "text/plain": [
       "Text(0.5,0.92,'Boxplot of Prominent Video Game and Movie Gross Revenues through the Years')"
      ]
     },
     "execution_count": 11,
     "metadata": {},
     "output_type": "execute_result"
    },
    {
     "data": {
      "image/png": "[encoded data removed]",
      "text/plain": [
       "<matplotlib.figure.Figure at 0x7f346f9dedd8>"
      ]
     },
     "metadata": {
      "needs_background": "light"
     },
     "output_type": "display_data"
    }
   ],
   "source": [
    "fig = plt.figure(figsize=(10,10))\n",
    "plt.boxplot([FilmDF[\"Year\"],\n",
    "            VGDF[\"Year\"]]\n",
    "            )\n",
    "plt.xticks([1,2], [\"Film Revenue\", \"Video Game Revenue\"])\n",
    "plt.ylabel(\"Year\")\n",
    "fig.suptitle(\"Boxplot of Prominent Video Game and Movie Gross Revenues through the Years\", fontsize=15, y=0.92)"
   ]
  },
  {
   "cell_type": "markdown",
   "metadata": {},
   "source": [
    "Prominent revenue in Films stem from recent years as opposed to Video Games more dispersed gross. Note the longer range of Video Game revenue covering film outliers. The respective medians have been noted as 2015 and 2005. "
   ]
  },
  {
   "cell_type": "code",
   "execution_count": 12,
   "metadata": {},
   "outputs": [
    {
     "data": {
      "text/plain": [
       "Text(0.5,0.92,'Boxplot of Film and Video Game Revnues')"
      ]
     },
     "execution_count": 12,
     "metadata": {},
     "output_type": "execute_result"
    },
    {
     "data": {
      "image/png": "[encoded data removed]",
      "text/plain": [
       "<matplotlib.figure.Figure at 0x7f346fbfaf98>"
      ]
     },
     "metadata": {
      "needs_background": "light"
     },
     "output_type": "display_data"
    }
   ],
   "source": [
    "#Looking for revenue outliers\n",
    "fig = plt.figure(figsize=(10,10))\n",
    "plt.boxplot([FilmDF[\"Gross Revenue (US$)\"],\n",
    "            VGDF[\"Gross Revenue (US$)\"]]\n",
    "            )\n",
    "plt.xticks([1,2], [\"Film Revenue\", \"Video Game Revenue\"])\n",
    "plt.ylabel(\"Gross Revenue\")\n",
    "fig.suptitle(\"Boxplot of Film and Video Game Revnues\", fontsize=15, y=0.92)"
   ]
  },
  {
   "cell_type": "code",
   "execution_count": 13,
   "metadata": {},
   "outputs": [
    {
     "data": {
      "text/plain": [
       "Year                         2.042375e+03\n",
       "Gross Revenue (US$)          1.081100e+10\n",
       "Aggregate Rating (User)      9.687500e+01\n",
       "Aggregate Rating (Critic)    9.225000e+01\n",
       "Average Rating               9.750000e+01\n",
       "dtype: float64"
      ]
     },
     "execution_count": 13,
     "metadata": {},
     "output_type": "execute_result"
    }
   ],
   "source": [
    "#Upper Whisker VGDF\n",
    "VGDF.quantile(q=0.75) + (1.5 * (VGDF.quantile(q=0.75) - VGDF.quantile(q=0.25)))"
   ]
  },
  {
   "cell_type": "code",
   "execution_count": 14,
   "metadata": {},
   "outputs": [
    {
     "data": {
      "text/plain": [
       "Year                         2.028500e+03\n",
       "Gross Revenue (US$)          1.775421e+09\n",
       "Aggregate Rating (User)      1.368750e+02\n",
       "Aggregate Rating (Critic)    1.148750e+02\n",
       "Average Rating               1.202500e+02\n",
       "dtype: float64"
      ]
     },
     "execution_count": 14,
     "metadata": {},
     "output_type": "execute_result"
    }
   ],
   "source": [
    "#Upper Whisker Film\n",
    "FilmDF.quantile(q=0.75) + (1.5 * (FilmDF.quantile(q=0.75) - FilmDF.quantile(q=0.25)))"
   ]
  },
  {
   "cell_type": "code",
   "execution_count": 15,
   "metadata": {},
   "outputs": [
    {
     "data": {
      "text/plain": [
       "Gross Revenue (US$)          16330000000\n",
       "Aggregate Rating (User)               98\n",
       "Aggregate Rating (Critic)            100\n",
       "dtype: int64"
      ]
     },
     "execution_count": 15,
     "metadata": {},
     "output_type": "execute_result"
    }
   ],
   "source": [
    "#Maximum VGDF\n",
    "VGDF[['Gross Revenue (US$)','Aggregate Rating (User)', 'Aggregate Rating (Critic)']].max()"
   ]
  },
  {
   "cell_type": "code",
   "execution_count": 16,
   "metadata": {},
   "outputs": [
    {
     "data": {
      "text/plain": [
       "Gross Revenue (US$)          2797800564\n",
       "Aggregate Rating (User)              98\n",
       "Aggregate Rating (Critic)            95\n",
       "dtype: int64"
      ]
     },
     "execution_count": 16,
     "metadata": {},
     "output_type": "execute_result"
    }
   ],
   "source": [
    "#Maximum FilmDF\n",
    "FilmDF[['Gross Revenue (US$)','Aggregate Rating (User)','Aggregate Rating (Critic)']].max()"
   ]
  },
  {
   "cell_type": "code",
   "execution_count": 17,
   "metadata": {},
   "outputs": [
    {
     "data": {
      "text/plain": [
       "Year                         1.452024e+02\n",
       "Gross Revenue (US$)          1.205835e+19\n",
       "Aggregate Rating (User)      9.620015e+01\n",
       "Aggregate Rating (Critic)    8.398413e+01\n",
       "Average Rating               6.564627e+01\n",
       "dtype: float64"
      ]
     },
     "execution_count": 17,
     "metadata": {},
     "output_type": "execute_result"
    }
   ],
   "source": [
    "#Variance VGDF\n",
    "VGDF.var()"
   ]
  },
  {
   "cell_type": "code",
   "execution_count": 18,
   "metadata": {},
   "outputs": [
    {
     "data": {
      "text/plain": [
       "Year                         3.650106e+01\n",
       "Gross Revenue (US$)          1.884641e+17\n",
       "Aggregate Rating (User)      4.049471e+02\n",
       "Aggregate Rating (Critic)    2.329107e+02\n",
       "Average Rating               2.624232e+02\n",
       "dtype: float64"
      ]
     },
     "execution_count": 18,
     "metadata": {},
     "output_type": "execute_result"
    }
   ],
   "source": [
    "#Variance FilmDF\n",
    "FilmDF.var()"
   ]
  },
  {
   "cell_type": "code",
   "execution_count": 19,
   "metadata": {},
   "outputs": [
    {
     "data": {
      "text/plain": [
       "Gross Revenue (US$)          15330000000\n",
       "Aggregate Rating (User)               53\n",
       "Aggregate Rating (Critic)             50\n",
       "dtype: int64"
      ]
     },
     "execution_count": 19,
     "metadata": {},
     "output_type": "execute_result"
    }
   ],
   "source": [
    "#Range VGDF\n",
    "VGDF[['Gross Revenue (US$)','Aggregate Rating (User)', 'Aggregate Rating (Critic)']].max() - VGDF[['Gross Revenue (US$)','Aggregate Rating (User)', 'Aggregate Rating (Critic)']].min()"
   ]
  },
  {
   "cell_type": "code",
   "execution_count": 20,
   "metadata": {},
   "outputs": [
    {
     "data": {
      "text/plain": [
       "Gross Revenue (US$)          1792866531\n",
       "Aggregate Rating (User)              80\n",
       "Aggregate Rating (Critic)            51\n",
       "dtype: int64"
      ]
     },
     "execution_count": 20,
     "metadata": {},
     "output_type": "execute_result"
    }
   ],
   "source": [
    "#Range FilmDF\n",
    "#Note the large range in user rating\n",
    "FilmDF[['Gross Revenue (US$)','Aggregate Rating (User)','Aggregate Rating (Critic)']].max() - FilmDF[['Gross Revenue (US$)','Aggregate Rating (User)','Aggregate Rating (Critic)']].min()"
   ]
  },
  {
   "cell_type": "code",
   "execution_count": 21,
   "metadata": {},
   "outputs": [
    {
     "data": {
      "text/plain": [
       "Year                         2.025000e+01\n",
       "Gross Revenue (US$)          3.639500e+09\n",
       "Aggregate Rating (User)      9.250000e+00\n",
       "Aggregate Rating (Critic)    5.500000e+00\n",
       "Average Rating               9.000000e+00\n",
       "dtype: float64"
      ]
     },
     "execution_count": 21,
     "metadata": {},
     "output_type": "execute_result"
    }
   ],
   "source": [
    "#Interquartile Range\n",
    "VGDF.quantile(q=0.75) - VGDF.quantile(q=0.25)"
   ]
  },
  {
   "cell_type": "code",
   "execution_count": 22,
   "metadata": {},
   "outputs": [
    {
     "data": {
      "text/plain": [
       "Year                         7.000000e+00\n",
       "Gross Revenue (US$)          2.882817e+08\n",
       "Aggregate Rating (User)      2.975000e+01\n",
       "Aggregate Rating (Critic)    1.725000e+01\n",
       "Average Rating               2.050000e+01\n",
       "dtype: float64"
      ]
     },
     "execution_count": 22,
     "metadata": {},
     "output_type": "execute_result"
    }
   ],
   "source": [
    "#Interquartile Range\n",
    "FilmDF.quantile(q=0.75) - FilmDF.quantile(q=0.25)"
   ]
  },
  {
   "cell_type": "markdown",
   "metadata": {},
   "source": [
    "From the revenue boxplot and data above, we can see that the top grossing video games grossed more than the top grossing films. Even the film outliers are eclipsed by Video Game range."
   ]
  },
  {
   "cell_type": "markdown",
   "metadata": {},
   "source": [
    "# Relationship Between Revenue and Ratings"
   ]
  },
  {
   "cell_type": "code",
   "execution_count": 23,
   "metadata": {},
   "outputs": [
    {
     "data": {
      "text/plain": [
       "Text(0.5,0.92,'Video Game Revenue & Rating')"
      ]
     },
     "execution_count": 23,
     "metadata": {},
     "output_type": "execute_result"
    },
    {
     "data": {
      "image/png": "[encoded data removed]",
      "text/plain": [
       "<matplotlib.figure.Figure at 0x7f346fb374a8>"
      ]
     },
     "metadata": {
      "needs_background": "light"
     },
     "output_type": "display_data"
    }
   ],
   "source": [
    "def evaluate_linear_relationship(a, b):\n",
    "    slope = np.cov(a, b, bias=True)[0][1] / np.var(a)\n",
    "    intercept = np.mean(b) - (slope * np.mean(a))\n",
    "    predictions = (slope * a) + intercept\n",
    "    residuals = b - predictions\n",
    "    return slope, intercept, predictions, residuals\n",
    "\n",
    "slope, intercept, predictions, residuals = evaluate_linear_relationship(VGDF[\"Gross Revenue (US$)\"],\n",
    "                                                                        VGDF[\"Average Rating\"])\n",
    "fig = plt.figure(figsize=(10,10))\n",
    "plt.scatter(VGDF[\"Gross Revenue (US$)\"],\n",
    "            VGDF[\"Average Rating\"]) #Average Rating comes into play\n",
    "sorted_order = np.argsort(VGDF[\"Gross Revenue (US$)\"])\n",
    "plt.plot(VGDF[\"Gross Revenue (US$)\"][sorted_order], predictions[sorted_order])\n",
    "plt.ylabel(\"Average Rating\")\n",
    "plt.xlabel(\"Gross Revenue (US$)\")\n",
    "fig.suptitle(\"Video Game Revenue & Rating\", fontsize=15, y=0.92)"
   ]
  },
  {
   "cell_type": "code",
   "execution_count": 24,
   "metadata": {},
   "outputs": [
    {
     "data": {
      "text/plain": [
       "Text(0.5,0.92,'Video Game Residuals')"
      ]
     },
     "execution_count": 24,
     "metadata": {},
     "output_type": "execute_result"
    },
    {
     "data": {
      "image/png": "[encoded data removed]",
      "text/plain": [
       "<matplotlib.figure.Figure at 0x7f346fb2e240>"
      ]
     },
     "metadata": {
      "needs_background": "light"
     },
     "output_type": "display_data"
    }
   ],
   "source": [
    "fig = plt.figure(figsize=(10,10))\n",
    "plt.scatter(VGDF[\"Gross Revenue (US$)\"], residuals)\n",
    "plt.plot([VGDF[\"Gross Revenue (US$)\"].min(), VGDF[\"Gross Revenue (US$)\"].max()], [0,0], linestyle='dotted')\n",
    "plt.xlabel(\"Predictions\")\n",
    "plt.ylabel('Residuals')\n",
    "fig.suptitle('Video Game Residuals', fontsize=15, y=0.92)"
   ]
  },
  {
   "cell_type": "code",
   "execution_count": 25,
   "metadata": {},
   "outputs": [
    {
     "data": {
      "text/plain": [
       "0.020702831492253312"
      ]
     },
     "execution_count": 25,
     "metadata": {},
     "output_type": "execute_result"
    }
   ],
   "source": [
    "#R-Squared Value\n",
    "np.var(predictions) / np.var(VGDF[\"Average Rating\"])"
   ]
  },
  {
   "cell_type": "code",
   "execution_count": 26,
   "metadata": {},
   "outputs": [
    {
     "data": {
      "text/plain": [
       "Text(0.5,0.92,'Film Revenue & Average Rating')"
      ]
     },
     "execution_count": 26,
     "metadata": {},
     "output_type": "execute_result"
    },
    {
     "data": {
      "image/png": "[encoded data removed]",
      "text/plain": [
       "<matplotlib.figure.Figure at 0x7f346fb374e0>"
      ]
     },
     "metadata": {
      "needs_background": "light"
     },
     "output_type": "display_data"
    }
   ],
   "source": [
    "def evaluate_linear_relationship(a, b):\n",
    "    slope = np.cov(a, b, bias=True)[0][1] / np.var(a)\n",
    "    intercept = np.mean(b) - (slope * np.mean(a))\n",
    "    predictions = (slope * a) + intercept\n",
    "    residuals = b - predictions\n",
    "    return slope, intercept, predictions, residuals\n",
    "\n",
    "slope, intercept, predictions, residuals = evaluate_linear_relationship(FilmDF[\"Gross Revenue (US$)\"],\n",
    "                                                                        FilmDF[\"Average Rating\"])\n",
    "fig = plt.figure(figsize=(10,10))\n",
    "plt.scatter(FilmDF[\"Gross Revenue (US$)\"],\n",
    "            FilmDF[\"Average Rating\"])\n",
    "sorted_order = np.argsort(FilmDF[\"Gross Revenue (US$)\"])\n",
    "plt.plot(FilmDF[\"Gross Revenue (US$)\"][sorted_order], predictions[sorted_order])\n",
    "plt.ylabel(\"Average Rating\")\n",
    "plt.xlabel(\"Gross Revenue (US$)\")\n",
    "fig.suptitle(\"Film Revenue & Average Rating\", fontsize=15, y=0.92)"
   ]
  },
  {
   "cell_type": "code",
   "execution_count": 27,
   "metadata": {},
   "outputs": [
    {
     "data": {
      "text/plain": [
       "Text(0.5,0.92,'Film Residuals')"
      ]
     },
     "execution_count": 27,
     "metadata": {},
     "output_type": "execute_result"
    },
    {
     "data": {
      "image/png": "[encoded data removed]",
      "text/plain": [
       "<matplotlib.figure.Figure at 0x7f346f7f04a8>"
      ]
     },
     "metadata": {
      "needs_background": "light"
     },
     "output_type": "display_data"
    }
   ],
   "source": [
    "fig = plt.figure(figsize=(10,10))\n",
    "plt.scatter(FilmDF[\"Gross Revenue (US$)\"], residuals)\n",
    "plt.plot([FilmDF[\"Gross Revenue (US$)\"].min(), FilmDF[\"Gross Revenue (US$)\"].max()], [0,0], linestyle='dotted')\n",
    "plt.xlabel(\"Predictions\")\n",
    "plt.ylabel('Residuals')\n",
    "fig.suptitle('Film Residuals', fontsize=15, y=0.92)"
   ]
  },
  {
   "cell_type": "code",
   "execution_count": 28,
   "metadata": {},
   "outputs": [
    {
     "data": {
      "text/plain": [
       "0.03842125029071273"
      ]
     },
     "execution_count": 28,
     "metadata": {},
     "output_type": "execute_result"
    }
   ],
   "source": [
    "#R-Squared Value\n",
    "np.var(predictions) / np.var(FilmDF[\"Average Rating\"])"
   ]
  },
  {
   "cell_type": "markdown",
   "metadata": {},
   "source": [
    "The relationship between Average Ratings and Gross Revenue yielded an R-squared value of 0.020702831492253312 for Video Games and 0.03842125029071273 for Films.\n",
    "\n",
    "Video games have an R-squared value of ~0.02, meaning about 2% of the gross revenue can account for the variance of ratings. Which honestly sounds surprising given how film and video game premieres are shown in a very controlling manner.\n",
    "\n",
    "A similar statement can be said with film's ~4%."
   ]
  },
  {
   "cell_type": "markdown",
   "metadata": {},
   "source": [
    "### Transforming distributions into normal distributions."
   ]
  },
  {
   "cell_type": "code",
   "execution_count": 29,
   "metadata": {},
   "outputs": [
    {
     "data": {
      "text/plain": [
       "Text(0.5,1,'Film Revenue')"
      ]
     },
     "execution_count": 29,
     "metadata": {},
     "output_type": "execute_result"
    },
    {
     "data": {
      "image/png": "[encoded data removed]",
      "text/plain": [
       "<matplotlib.figure.Figure at 0x7f346f790a20>"
      ]
     },
     "metadata": {
      "needs_background": "light"
     },
     "output_type": "display_data"
    }
   ],
   "source": [
    "#Using log\n",
    "#Films still remains as heavily skewed to the right\n",
    "fig, ax =plt.subplots(2,1, figsize=(10,10))\n",
    "ax[0].hist(np.log(VGDF[\"Gross Revenue (US$)\"]));\n",
    "ax[0].set_xlabel(\"Gross Revenue\")\n",
    "ax[0].set_ylabel(\"# of Video Games\")\n",
    "ax[0].set_title(\"Video Game Revenue\", fontsize=15, y=1)\n",
    "ax[1].hist(np.log(FilmDF[\"Gross Revenue (US$)\"]));\n",
    "ax[1].set_xlabel(\"Gross Revenue\")\n",
    "ax[1].set_ylabel(\"# of Films\")\n",
    "ax[1].set_title(\"Film Revenue\", fontsize=15, y=1)"
   ]
  },
  {
   "cell_type": "code",
   "execution_count": 30,
   "metadata": {},
   "outputs": [
    {
     "data": {
      "text/plain": [
       "Text(0.5,0.92,'Gross Video Game Revenue & Average Rating')"
      ]
     },
     "execution_count": 30,
     "metadata": {},
     "output_type": "execute_result"
    },
    {
     "data": {
      "image/png": "[encoded data removed]",
      "text/plain": [
       "<matplotlib.figure.Figure at 0x7f346f7171d0>"
      ]
     },
     "metadata": {
      "needs_background": "light"
     },
     "output_type": "display_data"
    }
   ],
   "source": [
    "#Video Games\n",
    "slope, intercept, predictions, residuals = evaluate_linear_relationship(np.log(VGDF[\"Gross Revenue (US$)\"]), np.log(VGDF[\"Average Rating\"]))\n",
    "\n",
    "fig = plt.figure(figsize=(10,10))\n",
    "plt.scatter(np.log(VGDF[\"Gross Revenue (US$)\"]),\n",
    "            np.log(VGDF[\"Average Rating\"]))\n",
    "sorted_order = np.argsort(VGDF[\"Gross Revenue (US$)\"])\n",
    "plt.plot(VGDF[\"Gross Revenue (US$)\"][sorted_order], predictions[sorted_order])\n",
    "plt.ylabel(\"Average Rating\")\n",
    "plt.xlabel(\"Gross Revenue (US$)\")\n",
    "fig.suptitle(\"Gross Video Game Revenue & Average Rating\", fontsize=15, y=0.92)"
   ]
  },
  {
   "cell_type": "code",
   "execution_count": 31,
   "metadata": {},
   "outputs": [
    {
     "data": {
      "text/plain": [
       "Text(0.5,0.92,'Video Game Residuals')"
      ]
     },
     "execution_count": 31,
     "metadata": {},
     "output_type": "execute_result"
    },
    {
     "data": {
      "image/png": "[encoded data removed]",
      "text/plain": [
       "<matplotlib.figure.Figure at 0x7f346f6457f0>"
      ]
     },
     "metadata": {
      "needs_background": "light"
     },
     "output_type": "display_data"
    }
   ],
   "source": [
    "fig = plt.figure(figsize=(10,10))\n",
    "plt.scatter(np.log(VGDF[\"Gross Revenue (US$)\"]), residuals)\n",
    "plt.plot([np.log(VGDF[\"Gross Revenue (US$)\"]).min(), np.log(VGDF[\"Gross Revenue (US$)\"]).max()], [0,0], linestyle='dotted')\n",
    "plt.xlabel(\"Predictions\")\n",
    "plt.ylabel('Residuals')\n",
    "fig.suptitle('Video Game Residuals', fontsize=15, y=0.92)"
   ]
  },
  {
   "cell_type": "code",
   "execution_count": 32,
   "metadata": {},
   "outputs": [
    {
     "data": {
      "text/plain": [
       "0.026496836550160417"
      ]
     },
     "execution_count": 32,
     "metadata": {},
     "output_type": "execute_result"
    }
   ],
   "source": [
    "#Transformed R-Squared Value\n",
    "np.var(predictions) / np.var(np.log(VGDF[\"Average Rating\"]))"
   ]
  },
  {
   "cell_type": "code",
   "execution_count": 33,
   "metadata": {},
   "outputs": [
    {
     "data": {
      "text/plain": [
       "Text(0.5,0.92,'Gross Video Game Revenue & Average Rating')"
      ]
     },
     "execution_count": 33,
     "metadata": {},
     "output_type": "execute_result"
    },
    {
     "data": {
      "image/png": "[encoded data removed]",
      "text/plain": [
       "<matplotlib.figure.Figure at 0x7f346f6e8160>"
      ]
     },
     "metadata": {
      "needs_background": "light"
     },
     "output_type": "display_data"
    }
   ],
   "source": [
    "#Films\n",
    "slope, intercept, predictions, residuals = evaluate_linear_relationship(np.log(FilmDF[\"Gross Revenue (US$)\"]), np.log(FilmDF[\"Average Rating\"]))\n",
    "\n",
    "fig = plt.figure(figsize=(10,10))\n",
    "plt.scatter(np.log(FilmDF[\"Gross Revenue (US$)\"]),\n",
    "            np.log(FilmDF[\"Average Rating\"]))\n",
    "sorted_order = np.argsort(FilmDF[\"Gross Revenue (US$)\"])\n",
    "plt.plot(VGDF[\"Gross Revenue (US$)\"][sorted_order], predictions[sorted_order])\n",
    "plt.ylabel(\"Average Rating\")\n",
    "plt.xlabel(\"Gross Revenue (US$)\")\n",
    "fig.suptitle(\"Gross Video Game Revenue & Average Rating\", fontsize=15, y=0.92)"
   ]
  },
  {
   "cell_type": "code",
   "execution_count": 34,
   "metadata": {},
   "outputs": [
    {
     "data": {
      "text/plain": [
       "Text(0.5,0.92,'Video Game Residuals')"
      ]
     },
     "execution_count": 34,
     "metadata": {},
     "output_type": "execute_result"
    },
    {
     "data": {
      "image/png": "[encoded data removed]",
      "text/plain": [
       "<matplotlib.figure.Figure at 0x7f346f59fa20>"
      ]
     },
     "metadata": {
      "needs_background": "light"
     },
     "output_type": "display_data"
    }
   ],
   "source": [
    "fig = plt.figure(figsize=(10,10))\n",
    "plt.scatter(np.log(FilmDF[\"Gross Revenue (US$)\"]), residuals)\n",
    "plt.plot([np.log(FilmDF[\"Gross Revenue (US$)\"]).min(), np.log(FilmDF[\"Gross Revenue (US$)\"]).max()], [0,0], linestyle='dotted')\n",
    "plt.xlabel(\"Predictions\")\n",
    "plt.ylabel('Residuals')\n",
    "fig.suptitle('Video Game Residuals', fontsize=15, y=0.92)"
   ]
  },
  {
   "cell_type": "code",
   "execution_count": 35,
   "metadata": {},
   "outputs": [
    {
     "data": {
      "text/plain": [
       "0.04400434894784746"
      ]
     },
     "execution_count": 35,
     "metadata": {},
     "output_type": "execute_result"
    }
   ],
   "source": [
    "#Transformed R-Squared Value\n",
    "np.var(predictions) / np.var(np.log(FilmDF[\"Average Rating\"]))"
   ]
  },
  {
   "cell_type": "markdown",
   "metadata": {},
   "source": [
    "Transforming both distributions still yield a similar R-square value. I'll finish of by looking at correlation."
   ]
  },
  {
   "cell_type": "code",
   "execution_count": 36,
   "metadata": {},
   "outputs": [
    {
     "data": {
      "text/plain": [
       "(-0.1438847854787063, 0.2566663553424979)"
      ]
     },
     "execution_count": 36,
     "metadata": {},
     "output_type": "execute_result"
    }
   ],
   "source": [
    "stats.pearsonr(VGDF[\"Gross Revenue (US$)\"], VGDF[\"Average Rating\"])"
   ]
  },
  {
   "cell_type": "markdown",
   "metadata": {},
   "source": [
    "With a P-Value of over 0.05, the correlation of -0.14388 is insignificant."
   ]
  },
  {
   "cell_type": "code",
   "execution_count": 37,
   "metadata": {},
   "outputs": [
    {
     "data": {
      "text/plain": [
       "(0.19601339314116456, 0.20224294818493696)"
      ]
     },
     "execution_count": 37,
     "metadata": {},
     "output_type": "execute_result"
    }
   ],
   "source": [
    "stats.pearsonr(FilmDF[\"Gross Revenue (US$)\"], FilmDF[\"Average Rating\"])"
   ]
  },
  {
   "cell_type": "markdown",
   "metadata": {},
   "source": [
    "With a P-Value of over 0.05, the correlation of 0.19601 is also insignificant."
   ]
  },
  {
   "cell_type": "markdown",
   "metadata": {},
   "source": [
    "# Final thoughts and looking at any loose ends"
   ]
  },
  {
   "cell_type": "code",
   "execution_count": 38,
   "metadata": {},
   "outputs": [
    {
     "data": {
      "text/plain": [
       "(0.45836866532617476, 0.0001395917624038086)"
      ]
     },
     "execution_count": 38,
     "metadata": {},
     "output_type": "execute_result"
    }
   ],
   "source": [
    "#Looking at any potential correlation between Critic and User ratings\n",
    "stats.pearsonr(VGDF[\"Aggregate Rating (Critic)\"], VGDF[\"Aggregate Rating (User)\"])"
   ]
  },
  {
   "cell_type": "markdown",
   "metadata": {},
   "source": [
    "So there is a pretty decent correlation between Critic and User rating. Perhaps one may be influencing the other? Whether or not that may be the case, it doesn't seem to deter nor encourage the audience to buy a particular video game as a whole."
   ]
  },
  {
   "cell_type": "code",
   "execution_count": 39,
   "metadata": {},
   "outputs": [
    {
     "data": {
      "text/plain": [
       "(0.6705010891225315, 6.377843857768789e-07)"
      ]
     },
     "execution_count": 39,
     "metadata": {},
     "output_type": "execute_result"
    }
   ],
   "source": [
    "#Looking at any potential correlation between Critic and User ratings\n",
    "stats.pearsonr(FilmDF[\"Aggregate Rating (Critic)\"], FilmDF[\"Aggregate Rating (User)\"])"
   ]
  },
  {
   "cell_type": "markdown",
   "metadata": {},
   "source": [
    "An even stronger correlation when it comes to films! Personally, this is something I think about often. Perhaps there is still a perception that films are a more mature medium than the often-infantilized video games. Thus, critic ratings may have more weight in the eyes of the film goer than the video game player.\n",
    "\n",
    "I'm curious to see how this perception evolves as games are looked upon more as an interactive art medium. Perhaps a similar transformation will occur just as \"graphic novels\" stemmed from \"comic books\". \n",
    "\n",
    "Either way, it's an extremely wealthy industry that may boast higher potential than the mediums of old for better or worse."
   ]
  }
 ],
 "metadata": {
  "kernelspec": {
   "display_name": "Python 3",
   "language": "python",
   "name": "python3"
  },
  "language_info": {
   "codemirror_mode": {
    "name": "ipython",
    "version": 3
   },
   "file_extension": ".py",
   "mimetype": "text/x-python",
   "name": "python",
   "nbconvert_exporter": "python",
   "pygments_lexer": "ipython3",
   "version": "3.7.3"
  }
 },
 "nbformat": 4,
 "nbformat_minor": 2
}
